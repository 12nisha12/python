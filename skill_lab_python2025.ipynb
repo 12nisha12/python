{
  "nbformat": 4,
  "nbformat_minor": 0,
  "metadata": {
    "colab": {
      "provenance": []
    },
    "kernelspec": {
      "name": "python3",
      "display_name": "Python 3"
    },
    "language_info": {
      "name": "python"
    }
  },
  "cells": [
    {
      "cell_type": "code",
      "execution_count": 1,
      "metadata": {
        "colab": {
          "base_uri": "https://localhost:8080/"
        },
        "id": "eOAhqm2OaWlP",
        "outputId": "bcf7f565-bd59-4058-de67-cf85b526f2e8"
      },
      "outputs": [
        {
          "output_type": "stream",
          "name": "stdout",
          "text": [
            "Hello, Alice!\n"
          ]
        }
      ],
      "source": [
        "def greet(name):\n",
        "    print(f\"Hello, {name}!\")  # This line is indented inside the function\n",
        "\n",
        "greet(\"Alice\")\n"
      ]
    }
  ]
}